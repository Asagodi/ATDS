{
 "cells": [
  {
   "cell_type": "code",
   "execution_count": 6,
   "metadata": {},
   "outputs": [],
   "source": [
    "import numpy as np\n",
    "from scipy import *\n",
    "import sys\n",
    "sys.path.append('../')\n",
    "import matplotlib.pyplot as plt\n",
    "from mpl_toolkits.mplot3d import Axes3D\n",
    "from xppcall import xpprun\n",
    "import networkx as nx\n",
    "import conley_functions as cf\n",
    "import subprocess\n",
    "import nolds\n",
    "import scipy.optimize\n",
    "\n",
    "####Set up network weights\n",
    "a = 16\n",
    "b = 12\n",
    "d = 4\n",
    "e = -2\n",
    "W = np.array([[a, 0, -b, 0], [0, a, 0, -b],\n",
    "              [a, 0, -d, 0], [0, a, 0, -d]]) \n",
    "N = W.shape[0]\n",
    "ps = [-1,-1,-4,-4]\n",
    "\n",
    "def sigmoid(x):\n",
    "    return 1 / (1 + np.exp(-x))"
   ]
  },
  {
   "cell_type": "code",
   "execution_count": 46,
   "metadata": {},
   "outputs": [
    {
     "name": "stderr",
     "output_type": "stream",
     "text": [
      "/home/abel/anaconda3/envs/atds/lib/python3.7/site-packages/ipykernel_launcher.py:25: RuntimeWarning: overflow encountered in exp\n"
     ]
    }
   ],
   "source": [
    "expn = 21\n",
    "stabmat99 = np.zeros((expn,expn))\n",
    "\n",
    "for i,expi in  enumerate(np.linspace(-10, 10, num=expn)):\n",
    "    for j,ksdm in  enumerate(np.linspace(-10, 10, num=expn)):\n",
    "        Wp = np.zeros((N,N))\n",
    "        Wp[0,-1] = ksdm\n",
    "        Wp[1,-2] = ksdm\n",
    "        Wp[2,-3] = ksdm\n",
    "        Wp[3,-4] = ksdm\n",
    "        Wp[0,1] = expi\n",
    "        Wp[1,0] = expi\n",
    "        Wp[2,3] = expi\n",
    "        Wp[3,2] = expi\n",
    "\n",
    "        Ws = W + Wp\n",
    "        \n",
    "        def F(x):\n",
    "            return -x+sigmoid(Ws.dot(x)+np.array(ps))\n",
    "        try:\n",
    "            x=scipy.optimize.broyden2(F, [.99]*4, f_tol=1e-15)\n",
    "#             print(\"J eigenvals\", np.where(np.real(np.linalg.eig(cf.jac(x,Ws,ps))[0])<0.)[0].shape[0])\n",
    "            stabmat99[j,i] = np.where(np.real(np.linalg.eig(cf.jac(x,Ws,ps))[0])<0.)[0].shape[0]\n",
    "        except:\n",
    "            stabmat99[j,i] = -1"
   ]
  },
  {
   "cell_type": "code",
   "execution_count": 45,
   "metadata": {},
   "outputs": [],
   "source": [
    "# stabmat"
   ]
  },
  {
   "cell_type": "code",
   "execution_count": 52,
   "metadata": {},
   "outputs": [
    {
     "ename": "TypeError",
     "evalue": "colorbar() missing 1 required positional argument: 'mappable'",
     "output_type": "error",
     "traceback": [
      "\u001b[0;31m---------------------------------------------------------------------------\u001b[0m",
      "\u001b[0;31mTypeError\u001b[0m                                 Traceback (most recent call last)",
      "\u001b[0;32m<ipython-input-52-785bb2dd6c32>\u001b[0m in \u001b[0;36m<module>\u001b[0;34m\u001b[0m\n\u001b[1;32m      5\u001b[0m \u001b[0max\u001b[0m\u001b[0;34m.\u001b[0m\u001b[0mset_xticks\u001b[0m\u001b[0;34m(\u001b[0m\u001b[0mnp\u001b[0m\u001b[0;34m.\u001b[0m\u001b[0mlinspace\u001b[0m\u001b[0;34m(\u001b[0m\u001b[0;34m-\u001b[0m\u001b[0;36m10\u001b[0m\u001b[0;34m,\u001b[0m\u001b[0;36m10\u001b[0m\u001b[0;34m,\u001b[0m\u001b[0;36m11\u001b[0m\u001b[0;34m)\u001b[0m\u001b[0;34m)\u001b[0m\u001b[0;34m\u001b[0m\u001b[0;34m\u001b[0m\u001b[0m\n\u001b[1;32m      6\u001b[0m \u001b[0max\u001b[0m\u001b[0;34m.\u001b[0m\u001b[0mset_yticks\u001b[0m\u001b[0;34m(\u001b[0m\u001b[0mnp\u001b[0m\u001b[0;34m.\u001b[0m\u001b[0mlinspace\u001b[0m\u001b[0;34m(\u001b[0m\u001b[0;34m-\u001b[0m\u001b[0;36m10\u001b[0m\u001b[0;34m,\u001b[0m\u001b[0;36m10\u001b[0m\u001b[0;34m,\u001b[0m\u001b[0;36m11\u001b[0m\u001b[0;34m)\u001b[0m\u001b[0;34m)\u001b[0m\u001b[0;34m\u001b[0m\u001b[0;34m\u001b[0m\u001b[0m\n\u001b[0;32m----> 7\u001b[0;31m \u001b[0mfig\u001b[0m\u001b[0;34m.\u001b[0m\u001b[0mcolorbar\u001b[0m\u001b[0;34m(\u001b[0m\u001b[0;34m)\u001b[0m\u001b[0;34m\u001b[0m\u001b[0;34m\u001b[0m\u001b[0m\n\u001b[0m",
      "\u001b[0;31mTypeError\u001b[0m: colorbar() missing 1 required positional argument: 'mappable'"
     ]
    },
    {
     "data": {
      "image/png": "[encoded data removed]",
      "text/plain": [
       "<Figure size 432x288 with 1 Axes>"
      ]
     },
     "metadata": {
      "needs_background": "light"
     },
     "output_type": "display_data"
    }
   ],
   "source": [
    "fig, ax = plt.subplots()\n",
    "ax.matshow(stabmat01+stabmat99,extent=[-10,10,10,-10])\n",
    "ax.set_xlabel(r\"$\\lambda_1$\", fontsize=15)\n",
    "ax.set_ylabel(r\"$\\lambda_2$\", fontsize=15)\n",
    "ax.set_xticks(np.linspace(-10,10,11))\n",
    "ax.set_yticks(np.linspace(-10,10,11))\n",
    "fig.colorbar()"
   ]
  },
  {
   "cell_type": "code",
   "execution_count": 66,
   "metadata": {},
   "outputs": [
    {
     "data": {
      "image/png": "[encoded data removed]",
      "text/plain": [
       "<Figure size 576x576 with 2 Axes>"
      ]
     },
     "metadata": {
      "needs_background": "light"
     },
     "output_type": "display_data"
    }
   ],
   "source": [
    "from matplotlib.colors import ListedColormap\n",
    "import matplotlib as mpl\n",
    "allcolors = ['w', 'k', 'yellow', 'orange', 'red']\n",
    "cmap = ListedColormap(allcolors)\n",
    "norm = mpl.colors.BoundaryNorm(np.arange(-1.5,5), cmap.N, cmap.N)\n",
    "\n",
    "fig, ax = plt.subplots(figsize=(8,8))\n",
    "scatter = ax.matshow(stabmat01, cmap=cmap, norm=norm, extent=[-10,10,10,-10])\n",
    "\n",
    "ax.set_xlabel(r\"$\\lambda_1$\", fontsize=15)\n",
    "ax.set_ylabel(r\"$\\lambda_2$\", fontsize=15)\n",
    "ax.set_xticks(np.linspace(-10,10,11))\n",
    "ax.set_yticks(np.linspace(-10,10,11))\n",
    "\n",
    "fig.colorbar(scatter, ticks=[-1,1,2,3,4])\n",
    "plt.show()"
   ]
  },
  {
   "cell_type": "code",
   "execution_count": 74,
   "metadata": {},
   "outputs": [
    {
     "data": {
      "text/plain": [
       "((array([ 0,  1,  2,  3,  4,  4,  8,  9, 17]),\n",
       "  array([20, 20, 19, 18, 16, 17, 12, 11,  3])),\n",
       " (28,),\n",
       " (11,))"
      ]
     },
     "execution_count": 74,
     "metadata": {},
     "output_type": "execute_result"
    }
   ],
   "source": [
    "np.where(stabmat01+stabmat99<0),np.where(stabmat99<0)[0].shape,np.where(stabmat01<0)[0].shape"
   ]
  },
  {
   "cell_type": "code",
   "execution_count": 88,
   "metadata": {},
   "outputs": [
    {
     "data": {
      "text/plain": [
       "(-1.0, 2.0)"
      ]
     },
     "execution_count": 88,
     "metadata": {},
     "output_type": "execute_result"
    }
   ],
   "source": [
    "i,j=1,18\n",
    "np.array(stabmat01)[i,j],np.array(stabmat99)[i,j]"
   ]
  },
  {
   "cell_type": "code",
   "execution_count": 75,
   "metadata": {},
   "outputs": [],
   "source": [
    "stabmat = stabmat01.copy()"
   ]
  },
  {
   "cell_type": "code",
   "execution_count": 89,
   "metadata": {},
   "outputs": [],
   "source": [
    "stabmat[i,j] = 2."
   ]
  },
  {
   "cell_type": "code",
   "execution_count": 87,
   "metadata": {},
   "outputs": [
    {
     "data": {
      "text/plain": [
       "(array([ 0,  0,  1,  1,  2,  3,  4,  4,  8,  9, 17]),\n",
       " array([19, 20, 18, 20, 19, 18, 16, 17, 12, 11,  3]))"
      ]
     },
     "execution_count": 87,
     "metadata": {},
     "output_type": "execute_result"
    }
   ],
   "source": [
    "np.where(stabmat01<0)"
   ]
  },
  {
   "cell_type": "code",
   "execution_count": 98,
   "metadata": {},
   "outputs": [
    {
     "data": {
      "image/png": "[encoded data removed]",
      "text/plain": [
       "<Figure size 576x576 with 2 Axes>"
      ]
     },
     "metadata": {
      "needs_background": "light"
     },
     "output_type": "display_data"
    }
   ],
   "source": [
    "from matplotlib.colors import ListedColormap\n",
    "import matplotlib as mpl\n",
    "allcolors = ['w', 'k', 'yellow', 'orange', 'red']\n",
    "cmap = ListedColormap(allcolors)\n",
    "norm = mpl.colors.BoundaryNorm([-2.,.5,1.5,2.5,3.5,4.5], cmap.N, cmap.N)\n",
    "# norm = mpl.colors.BoundaryNorm(np.arange(-1.5,5), cmap.N, cmap.N)\n",
    "\n",
    "fig, ax = plt.subplots(figsize=(8,8))\n",
    "scatter = ax.matshow(stabmat, cmap=cmap, norm=norm, extent=[-10,10,10,-10])\n",
    "\n",
    "ax.set_xlabel(r\"$\\lambda_1$\", fontsize=15)\n",
    "ax.set_ylabel(r\"$\\lambda_2$\", fontsize=15)\n",
    "ax.set_xticks(np.linspace(-10,10,11))\n",
    "ax.set_yticks(np.linspace(-10,10,11))\n",
    "\n",
    "fig.colorbar(scatter, ticks=[-1,1,2,3,4])\n",
    "plt.savefig('Images/fp_stab.png')\n",
    "plt.show()"
   ]
  },
  {
   "cell_type": "code",
   "execution_count": 93,
   "metadata": {},
   "outputs": [
    {
     "data": {
      "text/plain": [
       "array([-1.5, -0.5,  0.5,  1.5,  2.5,  3.5,  4.5])"
      ]
     },
     "execution_count": 93,
     "metadata": {},
     "output_type": "execute_result"
    }
   ],
   "source": [
    "np.arange(-1.5,5)"
   ]
  },
  {
   "cell_type": "code",
   "execution_count": null,
   "metadata": {},
   "outputs": [],
   "source": []
  }
 ],
 "metadata": {
  "kernelspec": {
   "display_name": "Python 3",
   "language": "python",
   "name": "python3"
  },
  "language_info": {
   "codemirror_mode": {
    "name": "ipython",
    "version": 3
   },
   "file_extension": ".py",
   "mimetype": "text/x-python",
   "name": "python",
   "nbconvert_exporter": "python",
   "pygments_lexer": "ipython3",
   "version": "3.7.5"
  }
 },
 "nbformat": 4,
 "nbformat_minor": 2
}
