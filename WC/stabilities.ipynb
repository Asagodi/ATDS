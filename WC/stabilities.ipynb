{
 "cells": [
  {
   "cell_type": "code",
   "execution_count": 1,
   "metadata": {},
   "outputs": [],
   "source": [
    "import numpy as np\n",
    "from scipy import *\n",
    "import sys\n",
    "sys.path.append('../')\n",
    "import matplotlib.pyplot as plt\n",
    "from mpl_toolkits.mplot3d import Axes3D\n",
    "from xppcall import xpprun\n",
    "import networkx as nx\n",
    "import conley_functions as cf\n",
    "import subprocess\n",
    "import nolds\n",
    "import scipy.optimize\n",
    "\n",
    "####Set up network weights\n",
    "a = 16\n",
    "b = 12\n",
    "d = 4\n",
    "e = -2\n",
    "W = np.array([[a, 0, -b, 0], [0, a, 0, -b],\n",
    "              [a, 0, -d, 0], [0, a, 0, -d]]) \n",
    "N = W.shape[0]\n",
    "ps = [-1,-1,-4,-4]\n",
    "\n",
    "def sigmoid(x):\n",
    "    return 1 / (1 + np.exp(-x))"
   ]
  },
  {
   "cell_type": "code",
   "execution_count": 61,
   "metadata": {},
   "outputs": [
    {
     "name": "stdout",
     "output_type": "stream",
     "text": [
      "17 3\n"
     ]
    },
    {
     "name": "stderr",
     "output_type": "stream",
     "text": [
      "/home/abel/anaconda3/envs/atds/lib/python3.7/site-packages/ipykernel_launcher.py:25: RuntimeWarning: overflow encountered in exp\n"
     ]
    },
    {
     "name": "stdout",
     "output_type": "stream",
     "text": [
      "9 11\n",
      "8 12\n",
      "4 16\n",
      "4 17\n",
      "1 18\n",
      "3 18\n",
      "0 19\n",
      "2 19\n",
      "0 20\n",
      "1 20\n"
     ]
    }
   ],
   "source": [
    "expn = 21\n",
    "stabmat01 = np.zeros((expn,expn))\n",
    "\n",
    "for i,expi in  enumerate(np.linspace(-10, 10, num=expn)):\n",
    "    for j,ksdm in  enumerate(np.linspace(-10, 10, num=expn)):\n",
    "        Wp = np.zeros((N,N))\n",
    "        Wp[0,-1] = ksdm\n",
    "        Wp[1,-2] = ksdm\n",
    "        Wp[2,-3] = ksdm\n",
    "        Wp[3,-4] = ksdm\n",
    "        Wp[0,1] = expi\n",
    "        Wp[1,0] = expi\n",
    "        Wp[2,3] = expi\n",
    "        Wp[3,2] = expi\n",
    "\n",
    "        Ws = W + Wp\n",
    "        \n",
    "        def F(x):\n",
    "            return -x+sigmoid(Ws.dot(x)+np.array(ps))\n",
    "        try:\n",
    "            x=scipy.optimize.broyden2(F, [.01]*4, f_tol=1e-10)\n",
    "#             print(\"J eigenvals\", np.where(np.real(np.linalg.eig(cf.jac(x,Ws,ps))[0])<0.)[0].shape[0])\n",
    "#             print( np.where(np.real(np.linalg.eig(cf.jac(x,Ws,ps))[0])<0.)[0].shape[0])\n",
    "            stabmat01[j,i] = np.where(np.real(np.linalg.eig(cf.jac(x,Ws,ps))[0])<0.)[0].shape[0]\n",
    "        except:\n",
    "            print(j,i)\n",
    "            stabmat01[j,i] = -1"
   ]
  },
  {
   "cell_type": "code",
   "execution_count": 63,
   "metadata": {},
   "outputs": [
    {
     "data": {
      "text/plain": [
       "array([[ 3.,  3.,  2.,  2.,  4.,  4.,  4.,  4.,  4.,  4.,  4.,  4.,  4.,\n",
       "         1.,  1.,  1.,  1.,  1.,  1., -1., -1.],\n",
       "       [ 3.,  3.,  2.,  2.,  2.,  2.,  4.,  4.,  4.,  4.,  4.,  4.,  1.,\n",
       "         1.,  1.,  1.,  1.,  2., -1.,  2., -1.],\n",
       "       [ 3.,  3.,  2.,  2.,  2.,  2.,  2.,  2.,  2.,  2.,  0.,  0.,  1.,\n",
       "         1.,  1.,  2.,  2.,  2.,  2., -1.,  4.],\n",
       "       [ 3.,  2.,  2.,  2.,  2.,  2.,  2.,  2.,  2.,  0.,  0.,  0.,  0.,\n",
       "         2.,  2.,  2.,  2.,  2., -1.,  4.,  4.],\n",
       "       [ 2.,  2.,  2.,  2.,  2.,  2.,  2.,  2.,  0.,  0.,  0.,  0.,  0.,\n",
       "         2.,  2.,  2., -1., -1.,  3.,  2.,  2.],\n",
       "       [ 2.,  2.,  2.,  2.,  2.,  2.,  2.,  2.,  0.,  0.,  0.,  0.,  2.,\n",
       "         2.,  2.,  2.,  2.,  2.,  2.,  2.,  4.],\n",
       "       [ 2.,  2.,  2.,  2.,  2.,  2.,  2.,  2.,  0.,  0.,  0.,  0.,  2.,\n",
       "         2.,  2.,  2.,  4.,  4.,  2.,  2.,  2.],\n",
       "       [ 2.,  2.,  2.,  2.,  2.,  2.,  2.,  2.,  0.,  0.,  0.,  0.,  2.,\n",
       "         2.,  3.,  2.,  2.,  2.,  2.,  4.,  4.],\n",
       "       [ 2.,  2.,  2.,  2.,  2.,  2.,  2.,  2.,  2.,  0.,  0.,  0., -1.,\n",
       "         2.,  4.,  4.,  4.,  4.,  4.,  4.,  4.],\n",
       "       [ 2.,  2.,  2.,  2.,  2.,  2.,  2.,  2.,  2.,  0.,  0., -1.,  2.,\n",
       "         4.,  4.,  4.,  4.,  4.,  4.,  4.,  4.],\n",
       "       [ 2.,  2.,  2.,  2.,  2.,  2.,  2.,  2.,  2.,  0.,  0.,  4.,  2.,\n",
       "         4.,  4.,  4.,  4.,  4.,  4.,  4.,  4.],\n",
       "       [ 2.,  2.,  2.,  2.,  2.,  2.,  2.,  2.,  2.,  0.,  0.,  2.,  2.,\n",
       "         4.,  4.,  4.,  4.,  4.,  4.,  4.,  4.],\n",
       "       [ 2.,  2.,  2.,  2.,  2.,  2.,  2.,  2.,  2.,  0.,  0.,  2.,  2.,\n",
       "         4.,  4.,  4.,  4.,  4.,  4.,  4.,  4.],\n",
       "       [ 2.,  2.,  2.,  2.,  2.,  2.,  2.,  2.,  2.,  4.,  0.,  2.,  2.,\n",
       "         2.,  4.,  4.,  4.,  4.,  4.,  4.,  4.],\n",
       "       [ 2.,  2.,  2.,  2.,  2.,  2.,  2.,  2.,  0.,  0.,  2.,  4.,  4.,\n",
       "         2.,  2.,  2.,  4.,  4.,  4.,  4.,  4.],\n",
       "       [ 2.,  2.,  2.,  2.,  2.,  2.,  4.,  4.,  4.,  4.,  4.,  4.,  4.,\n",
       "         4.,  2.,  4.,  2.,  4.,  4.,  4.,  4.],\n",
       "       [ 2.,  2.,  2.,  2.,  2.,  4.,  4.,  4.,  4.,  4.,  4.,  4.,  4.,\n",
       "         4.,  4.,  4.,  4.,  2.,  2.,  4.,  4.],\n",
       "       [ 2.,  2.,  2., -1.,  4.,  4.,  4.,  4.,  4.,  4.,  4.,  4.,  4.,\n",
       "         4.,  4.,  4.,  4.,  4.,  4.,  4.,  4.],\n",
       "       [ 2.,  2.,  3.,  4.,  4.,  4.,  4.,  4.,  4.,  4.,  4.,  4.,  4.,\n",
       "         4.,  4.,  4.,  4.,  4.,  4.,  4.,  4.],\n",
       "       [ 2.,  3.,  4.,  4.,  4.,  4.,  4.,  4.,  4.,  4.,  4.,  4.,  4.,\n",
       "         4.,  4.,  4.,  4.,  4.,  4.,  4.,  4.],\n",
       "       [ 3.,  4.,  4.,  4.,  4.,  4.,  4.,  4.,  4.,  4.,  4.,  4.,  4.,\n",
       "         4.,  4.,  4.,  4.,  4.,  4.,  4.,  4.]])"
      ]
     },
     "execution_count": 63,
     "metadata": {},
     "output_type": "execute_result"
    }
   ],
   "source": [
    "stabmat01"
   ]
  },
  {
   "cell_type": "code",
   "execution_count": 62,
   "metadata": {},
   "outputs": [
    {
     "data": {
      "text/plain": [
       "[<matplotlib.axis.YTick at 0x7faed89cef50>,\n",
       " <matplotlib.axis.YTick at 0x7faed87f33d0>,\n",
       " <matplotlib.axis.YTick at 0x7faed87f3650>,\n",
       " <matplotlib.axis.YTick at 0x7faed88b1050>,\n",
       " <matplotlib.axis.YTick at 0x7faed88b13d0>,\n",
       " <matplotlib.axis.YTick at 0x7faed870f110>,\n",
       " <matplotlib.axis.YTick at 0x7faed870fb90>,\n",
       " <matplotlib.axis.YTick at 0x7faed870fc10>,\n",
       " <matplotlib.axis.YTick at 0x7faed87f0690>,\n",
       " <matplotlib.axis.YTick at 0x7faed87f0950>,\n",
       " <matplotlib.axis.YTick at 0x7faed87f0cd0>]"
      ]
     },
     "execution_count": 62,
     "metadata": {},
     "output_type": "execute_result"
    },
    {
     "data": {
      "image/png": "[encoded data removed]",
      "text/plain": [
       "<Figure size 432x288 with 1 Axes>"
      ]
     },
     "metadata": {
      "needs_background": "light"
     },
     "output_type": "display_data"
    }
   ],
   "source": [
    "fig, ax = plt.subplots()\n",
    "ax.matshow(stabmat01,extent=[-10,10,10,-10])\n",
    "ax.set_xlabel(r\"$\\lambda_1$\", fontsize=15)\n",
    "ax.set_ylabel(r\"$\\lambda_2$\", fontsize=15)\n",
    "ax.set_xticks(np.linspace(-10,10,11))\n",
    "ax.set_yticks(np.linspace(-10,10,11))\n",
    "# fig.colorbar()"
   ]
  },
  {
   "cell_type": "code",
   "execution_count": 72,
   "metadata": {},
   "outputs": [
    {
     "data": {
      "image/png": "[encoded data removed]",
      "text/plain": [
       "<Figure size 576x576 with 2 Axes>"
      ]
     },
     "metadata": {
      "needs_background": "light"
     },
     "output_type": "display_data"
    }
   ],
   "source": [
    "from matplotlib.colors import ListedColormap\n",
    "import matplotlib as mpl\n",
    "allcolors = ['w', 'blue', 'green', 'yellow', 'orange', 'k']\n",
    "cmap = ListedColormap(allcolors)\n",
    "norm = mpl.colors.BoundaryNorm(np.arange(-1.5,5), cmap.N, cmap.N)\n",
    "\n",
    "fig, ax = plt.subplots(figsize=(8,8))\n",
    "scatter = ax.matshow(stabmat01, cmap=cmap, norm=norm, extent=[-10,10,10,-10])\n",
    "\n",
    "ax.set_xlabel(r\"$\\lambda_1$\", fontsize=15)\n",
    "ax.set_ylabel(r\"$\\lambda_2$\", fontsize=15)\n",
    "ax.set_xticks(np.linspace(-10,10,11))\n",
    "ax.set_yticks(np.linspace(-10,10,11))\n",
    "\n",
    "fig.colorbar(scatter, ticks=[-1,0,1,2,3,4])\n",
    "plt.show()"
   ]
  },
  {
   "cell_type": "code",
   "execution_count": 34,
   "metadata": {},
   "outputs": [
    {
     "data": {
      "text/plain": [
       "((13,), (28,), (11,))"
      ]
     },
     "execution_count": 34,
     "metadata": {},
     "output_type": "execute_result"
    }
   ],
   "source": [
    "np.where(stabmat01+stabmat99<0)[0].shape,np.where(stabmat99<0)[0].shape,np.where(stabmat01<0)[0].shape"
   ]
  },
  {
   "cell_type": "code",
   "execution_count": 35,
   "metadata": {},
   "outputs": [
    {
     "data": {
      "text/plain": [
       "(array([ 0,  1,  2,  3,  4,  4,  8,  8,  9, 10, 12, 14, 17]),\n",
       " array([20, 20, 19, 18, 16, 17, 11, 12, 11, 10, 10,  8,  3]))"
      ]
     },
     "execution_count": 35,
     "metadata": {},
     "output_type": "execute_result"
    }
   ],
   "source": [
    "np.where(stabmat01+stabmat99<0)"
   ]
  },
  {
   "cell_type": "code",
   "execution_count": 36,
   "metadata": {},
   "outputs": [
    {
     "data": {
      "text/plain": [
       "(array([ 0,  0,  1,  1,  2,  3,  4,  4,  8,  9, 17]),\n",
       " array([19, 20, 18, 20, 19, 18, 16, 17, 12, 11,  3]))"
      ]
     },
     "execution_count": 36,
     "metadata": {},
     "output_type": "execute_result"
    }
   ],
   "source": [
    "np.where(stabmat01<0)"
   ]
  },
  {
   "cell_type": "code",
   "execution_count": 68,
   "metadata": {},
   "outputs": [
    {
     "data": {
      "text/plain": [
       "(-1.0, 2.0)"
      ]
     },
     "execution_count": 68,
     "metadata": {},
     "output_type": "execute_result"
    }
   ],
   "source": [
    "i,j=0,19\n",
    "np.array(stabmat01)[i,j],np.array(stabmat99)[i,j]\n",
    "i,j=1,18\n",
    "np.array(stabmat01)[i,j],np.array(stabmat99)[i,j]"
   ]
  },
  {
   "cell_type": "code",
   "execution_count": 67,
   "metadata": {},
   "outputs": [],
   "source": [
    "stabmat = stabmat01.copy()"
   ]
  },
  {
   "cell_type": "code",
   "execution_count": 69,
   "metadata": {},
   "outputs": [],
   "source": [
    "stabmat[0,19] = 2.\n",
    "stabmat[1,18] = 2."
   ]
  },
  {
   "cell_type": "code",
   "execution_count": 50,
   "metadata": {},
   "outputs": [
    {
     "data": {
      "image/png": "[encoded data removed]",
      "text/plain": [
       "<Figure size 576x576 with 2 Axes>"
      ]
     },
     "metadata": {
      "needs_background": "light"
     },
     "output_type": "display_data"
    }
   ],
   "source": [
    "from matplotlib.colors import ListedColormap\n",
    "import matplotlib as mpl\n",
    "allcolors = ['w', 'k', 'yellow', 'orange', 'red']\n",
    "cmap = ListedColormap(allcolors)\n",
    "norm = mpl.colors.BoundaryNorm([-2.,.5,1.5,2.5,3.5,4.5], cmap.N, cmap.N)\n",
    "# norm = mpl.colors.BoundaryNorm(np.arange(-1.5,5), cmap.N, cmap.N)\n",
    "\n",
    "fig, ax = plt.subplots(figsize=(8,8))\n",
    "scatter = ax.matshow(stabmatsaved, cmap=cmap, norm=norm, extent=[-10,10,10,-10])\n",
    "\n",
    "ax.set_xlabel(r\"$\\lambda_1$\", fontsize=15)\n",
    "ax.set_ylabel(r\"$\\lambda_2$\", fontsize=15)\n",
    "ax.set_xticks(np.linspace(-10,10,11))\n",
    "ax.set_yticks(np.linspace(-10,10,11))\n",
    "\n",
    "fig.colorbar(scatter, ticks=[-1,1,2,3,4])\n",
    "plt.savefig('Images/fp_stab.png')\n",
    "plt.show()"
   ]
  },
  {
   "cell_type": "code",
   "execution_count": 93,
   "metadata": {},
   "outputs": [
    {
     "data": {
      "text/plain": [
       "array([-1.5, -0.5,  0.5,  1.5,  2.5,  3.5,  4.5])"
      ]
     },
     "execution_count": 93,
     "metadata": {},
     "output_type": "execute_result"
    }
   ],
   "source": [
    "np.arange(-1.5,5)"
   ]
  },
  {
   "cell_type": "code",
   "execution_count": 73,
   "metadata": {},
   "outputs": [],
   "source": [
    "np.savetxt(\"stabmat.txt\",stabmat,delimiter=\",\")\n",
    "# stabmatsaved = np.loadtxt(\"stabmat.txt\",delimiter=\",\")"
   ]
  },
  {
   "cell_type": "code",
   "execution_count": 46,
   "metadata": {},
   "outputs": [
    {
     "data": {
      "text/plain": [
       "2.0"
      ]
     },
     "execution_count": 46,
     "metadata": {},
     "output_type": "execute_result"
    }
   ],
   "source": [
    "stabmat[9,0]"
   ]
  },
  {
   "cell_type": "code",
   "execution_count": 48,
   "metadata": {},
   "outputs": [
    {
     "data": {
      "text/plain": [
       "(array([ 0,  1,  2,  3,  4,  4,  8,  9, 17]),\n",
       " array([20, 20, 19, 18, 16, 17, 12, 11,  3]))"
      ]
     },
     "execution_count": 48,
     "metadata": {},
     "output_type": "execute_result"
    }
   ],
   "source": [
    "np.where(stabmatsaved<0)"
   ]
  },
  {
   "cell_type": "code",
   "execution_count": 49,
   "metadata": {},
   "outputs": [
    {
     "data": {
      "text/plain": [
       "(array([ 0,  1,  2,  3,  4,  4,  8,  9, 17]),\n",
       " array([20, 20, 19, 18, 16, 17, 12, 11,  3]))"
      ]
     },
     "execution_count": 49,
     "metadata": {},
     "output_type": "execute_result"
    }
   ],
   "source": [
    "np.where(stabmat<0)"
   ]
  },
  {
   "cell_type": "code",
   "execution_count": null,
   "metadata": {},
   "outputs": [],
   "source": []
  }
 ],
 "metadata": {
  "kernelspec": {
   "display_name": "Python 3",
   "language": "python",
   "name": "python3"
  },
  "language_info": {
   "codemirror_mode": {
    "name": "ipython",
    "version": 3
   },
   "file_extension": ".py",
   "mimetype": "text/x-python",
   "name": "python",
   "nbconvert_exporter": "python",
   "pygments_lexer": "ipython3",
   "version": "3.7.5"
  }
 },
 "nbformat": 4,
 "nbformat_minor": 2
}
