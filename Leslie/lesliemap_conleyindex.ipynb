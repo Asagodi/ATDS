{
 "cells": [
  {
   "cell_type": "code",
   "execution_count": 1,
   "metadata": {},
   "outputs": [],
   "source": [
    "import sys\n",
    "sys.path.append('../')\n",
    "sys.path.insert(0,'/home/abel/Documents/Projects/BioMath/EPFL/ATDS')\n",
    "\n",
    "from xppcall import xpprun, read_pars_values_from_file\n",
    "from scipy import *\n",
    "from scipy.sparse import csr_matrix, lil_matrix\n",
    "import matplotlib.pyplot as plt\n",
    "import networkx as nx\n",
    "import numpy as np\n",
    "import pickle\n",
    "import subprocess\n",
    "\n",
    "import conley_functions as cf"
   ]
  },
  {
   "cell_type": "code",
   "execution_count": 10,
   "metadata": {},
   "outputs": [],
   "source": [
    "path_to_ode = '/home/abel/Downloads/xppaut8.0ubuntu/ode/'\n",
    "\n",
    "#RCs\n",
    "xlo=0;xhi=74;ylo=0;yhi=52\n",
    "grid=[]\n",
    "delta = 4.\n",
    "for i in range(int((xhi-xlo)/delta)):\n",
    "    for j in range(int((yhi-ylo)/delta)):\n",
    "        gc=(xlo+i*delta, ylo+j*delta)\n",
    "        grid.append(gc)\n",
    "        \n",
    "time = 5000\n",
    "data = np.array([[0,0]])\n",
    "data_length_list = []\n",
    "for gc in grid:\n",
    "    npa, vn = xpprun(path_to_ode+'leslie.ode', inits={'x':gc[0],'y':gc[1]}, parameters={'total':time}, clean_after=True)\n",
    "    data = np.append(data, npa[:,1:], axis=0)  \n",
    "    data_length_list.append(npa.shape[0])"
   ]
  },
  {
   "cell_type": "code",
   "execution_count": 11,
   "metadata": {},
   "outputs": [],
   "source": [
    "# np.savetxt(\"lesliedata.txt\", data, delimiter=',')\n",
    "# np.savetxt(\"leisliedata_length_list.txt\", data_length_list, delimiter=',')\n",
    "# data = np.loadtxt(\"lesliedata.txt\", delimiter=',')\n",
    "# data_length_list = np.loadtxt(\"leisliedata_length_list.txt\", delimiter=',')"
   ]
  },
  {
   "cell_type": "code",
   "execution_count": 16,
   "metadata": {},
   "outputs": [],
   "source": [
    "delta = .1\n",
    "cds = cf.Combinatorial_Dynamical_System(delta)\n",
    "cds.initialise_with_data(data, data_length_list)"
   ]
  },
  {
   "cell_type": "code",
   "execution_count": 17,
   "metadata": {},
   "outputs": [
    {
     "data": {
      "text/plain": [
       "3"
      ]
     },
     "execution_count": 17,
     "metadata": {},
     "output_type": "execute_result"
    }
   ],
   "source": [
    "#get recurrent components\n",
    "cubes = cds.cubes\n",
    "RCs = cds.get_recurrent_components()\n",
    "len(RCs)"
   ]
  },
  {
   "cell_type": "code",
   "execution_count": 38,
   "metadata": {},
   "outputs": [
    {
     "data": {
      "image/png": "[encoded data removed]",
      "text/plain": [
       "<Figure size 846x564 with 1 Axes>"
      ]
     },
     "metadata": {
      "needs_background": "light"
     },
     "output_type": "display_data"
    }
   ],
   "source": [
    "fig, ax = plt.subplots(dpi=141)\n",
    "ax.set_xlim(xlo, xhi)\n",
    "ax.set_ylim(xlo, yhi)\n",
    "\n",
    "ax.set_aspect(1)\n",
    "fig.canvas.draw()\n",
    "s = max(1,((ax.get_window_extent().width  / (xhi-xlo+1.) * delta*72./fig.dpi) ** 2))  \n",
    "\n",
    "for i in range(len(RCs)):\n",
    "    plt.scatter(np.array(cubes)[RCs[i]][:,0], np.array(cubes)[RCs[i]][:,1], s=s, marker='s', label=i+1)\n",
    "plt.legend()\n",
    "plt.show()"
   ]
  },
  {
   "cell_type": "code",
   "execution_count": 19,
   "metadata": {},
   "outputs": [],
   "source": [
    "# H = cds.maximal_closed_subgraph()\n",
    "# cds.G = H"
   ]
  },
  {
   "cell_type": "code",
   "execution_count": 20,
   "metadata": {},
   "outputs": [
    {
     "name": "stdout",
     "output_type": "stream",
     "text": [
      "Component 1\n",
      "           H_0 = Z^3\n",
      "Component 2\n",
      "too many values to unpack (expected 4)\n",
      "Component 3\n",
      "           H_0 = Z^12\n",
      "           H_1 = Z^57\n"
     ]
    }
   ],
   "source": [
    "RPcubes = {}\n",
    "\n",
    "for i in range(len(RCs)):\n",
    "    RPcubes[i] = []\n",
    "    print(\"Component\", i+1)\n",
    "    RPcubes[i].append(cds.convert_indices_to_cubes(RCs[i]))\n",
    "    \n",
    "    # Betti numbers of recurrent components\n",
    "#     print(cf.get_bettiNumbers_of_cubicalset(Rcubes[i], cds.delta))\n",
    "    \n",
    "    #Get (isolated) neighbourhood (candidate) around recurrent set\n",
    "    N = RPcubes[i][0]\n",
    "    N_ind = cds.convert_cubes_to_indices(N)\n",
    "    S_ind = cds.invariantPart(N_ind)\n",
    "    S_cubes = cds.convert_indices_to_cubes(S_ind)\n",
    "    M = cds.cubical_wrap(S_cubes).intersection(cds.convert_indices_to_cubes(list(cds.G.nodes())))\n",
    "    for mstep in range(10):\n",
    "        M = cds.cubical_wrap(M).intersection(cds.convert_indices_to_cubes(list(cds.G.nodes())))\n",
    "    \n",
    "    #calculate index pair\n",
    "    try:\n",
    "        P1, P0, Pbar1, Pbar0 = cds.index_pair(M)\n",
    "    \n",
    "        P1cubes = cds.convert_indices_to_cubes(P1)\n",
    "        P0cubes = cds.convert_indices_to_cubes(P0)\n",
    "        RPcubes[i].append(P1cubes)\n",
    "        RPcubes[i].append(P0cubes)\n",
    "    \n",
    "        #write index pairs to file for Conley index calcualtion with CHomP\n",
    "        p1cubes = cds.convert_to_invertal_representation(P1cubes)\n",
    "        filetxt= cf.convert_to_chomp_format(p1cubes, delta)\n",
    "        with open('leslie_rc%s_p1.cub'%(i+1), 'w') as f:\n",
    "            f.writelines(filetxt)\n",
    "\n",
    "        if P0 != set():\n",
    "            p0cubes = cds.convert_to_invertal_representation(P0cubes)\n",
    "            filetxt= cf.convert_to_chomp_format(p0cubes, delta)\n",
    "            with open('leslie_rc%s_p0.cub'%(i+1), 'w') as f:\n",
    "                f.writelines(filetxt)\n",
    "        else:\n",
    "            0\n",
    "#             print(\"P0 is empty\")\n",
    "        \n",
    "        P1graph = nx.subgraph(cds.G, P1)\n",
    "        cubefile, mapfile = cf.write_mapandcubes(P1graph, cds.delta, cds)\n",
    "        with open('rc%s_P1_map.map'%(i+1), 'w') as f:\n",
    "            f.writelines(mapfile)\n",
    "\n",
    "        with open('rc%s_P1_cubes.cub'%(i+1), 'w') as f:\n",
    "            f.writelines(cubefile)\n",
    "            \n",
    "        P0graph = nx.subgraph(cds.G, P0)\n",
    "        cubefile, mapfile = cf.write_mapandcubes(P0graph, cds.delta, cds)\n",
    "        with open('rc%s_P0_map.map'%(i+1), 'w') as f:\n",
    "            f.writelines(mapfile)\n",
    "        with open('rc%s_P0_cubes.cub'%(i+1), 'w') as f:\n",
    "            f.writelines(cubefile)\n",
    "            \n",
    "        proc = subprocess.Popen(['homcubes','rc%s_P1_cubes.cub'%(i+1), 'rc%s_P0_cubes.cub'%(i+1)],stdout=subprocess.PIPE)\n",
    "        linenum = 0\n",
    "        while True:\n",
    "            line = proc.stdout.readline()\n",
    "            if not line:\n",
    "                break\n",
    "            if line.rstrip().decode('UTF-8')[0:2] == 'H_':\n",
    "                print(\"           \"+line.rstrip().decode('UTF-8'))\n",
    "            linenum+=1\n",
    "            \n",
    "    except Exception as e:\n",
    "#         print(\"E\")\n",
    "        print(e)"
   ]
  }
 ],
 "metadata": {
  "kernelspec": {
   "display_name": "atds",
   "language": "python",
   "name": "atds"
  },
  "language_info": {
   "codemirror_mode": {
    "name": "ipython",
    "version": 3
   },
   "file_extension": ".py",
   "mimetype": "text/x-python",
   "name": "python",
   "nbconvert_exporter": "python",
   "pygments_lexer": "ipython3",
   "version": "3.7.5"
  }
 },
 "nbformat": 4,
 "nbformat_minor": 2
}
