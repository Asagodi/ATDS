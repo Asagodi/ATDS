{
 "cells": [
  {
   "cell_type": "code",
   "execution_count": 1,
   "metadata": {},
   "outputs": [],
   "source": [
    "import sys\n",
    "sys.path.append('../')\n",
    "sys.path.insert(0,'/home/abel/Documents/Projects/BioMath/EPFL/ATDS')\n",
    "\n",
    "from xppcall import xpprun, read_pars_values_from_file\n",
    "from scipy import *\n",
    "from scipy.sparse import csr_matrix, lil_matrix\n",
    "import matplotlib.pyplot as plt\n",
    "import networkx as nx\n",
    "import numpy as np\n",
    "import pickle\n",
    "import subprocess\n",
    "\n",
    "import conley_functions as cf"
   ]
  },
  {
   "cell_type": "code",
   "execution_count": 98,
   "metadata": {},
   "outputs": [],
   "source": [
    "path_to_ode = '/home/abel/Downloads/xppaut8.0ubuntu/ode/'\n",
    "\n",
    "#RCs\n",
    "xlo=0;xhi=74;ylo=0;yhi=52\n",
    "grid=[]\n",
    "delta = .5\n",
    "for i in range(int((xhi-xlo)/delta)):\n",
    "    for j in range(int((yhi-ylo)/delta)):\n",
    "        gc=(xlo+i*delta, ylo+j*delta)\n",
    "        grid.append(gc)"
   ]
  },
  {
   "cell_type": "code",
   "execution_count": 99,
   "metadata": {},
   "outputs": [
    {
     "data": {
      "text/plain": [
       "15392"
      ]
     },
     "execution_count": 99,
     "metadata": {},
     "output_type": "execute_result"
    }
   ],
   "source": [
    "len(grid)"
   ]
  },
  {
   "cell_type": "code",
   "execution_count": 100,
   "metadata": {},
   "outputs": [],
   "source": [
    "time = 5\n",
    "data = np.array([[0,0]])\n",
    "data_length_list = []\n",
    "for gc in grid:\n",
    "    npa, vn = xpprun(path_to_ode+'leslie.ode', inits={'x':gc[0],'y':gc[1]}, parameters={'total':time}, clean_after=True)\n",
    "    data = np.append(data, npa[:,1:], axis=0)  \n",
    "    data_length_list.append(npa.shape[0])"
   ]
  },
  {
   "cell_type": "code",
   "execution_count": 84,
   "metadata": {},
   "outputs": [],
   "source": [
    "# np.savetxt(\"lesliedata.txt\", data, delimiter=',')\n",
    "# np.savetxt(\"leisliedata_length_list.txt\", data_length_list, delimiter=',')\n",
    "# data = np.loadtxt(\"lesliedata.txt\", delimiter=',')\n",
    "# data_length_list = np.loadtxt(\"leisliedata_length_list.txt\", delimiter=',')"
   ]
  },
  {
   "cell_type": "code",
   "execution_count": 104,
   "metadata": {},
   "outputs": [],
   "source": [
    "nbins = 2**6\n",
    "delta = 1./nbins\n",
    "cds = cf.Combinatorial_Dynamical_System(delta)\n",
    "cds.get_cubesandgraph(data, nbins, data_length_list, 74)"
   ]
  },
  {
   "cell_type": "code",
   "execution_count": 105,
   "metadata": {},
   "outputs": [
    {
     "data": {
      "text/plain": [
       "4"
      ]
     },
     "execution_count": 105,
     "metadata": {},
     "output_type": "execute_result"
    }
   ],
   "source": [
    "#get recurrent components\n",
    "cubes = cds.cubes\n",
    "RCs = cds.get_recurrent_components()\n",
    "arrayRCs = np.array(RCs) \n",
    "len(RCs)"
   ]
  },
  {
   "cell_type": "code",
   "execution_count": 106,
   "metadata": {},
   "outputs": [
    {
     "data": {
      "image/png": "[encoded data removed]",
      "text/plain": [
       "<Figure size 846x564 with 1 Axes>"
      ]
     },
     "metadata": {
      "needs_background": "light"
     },
     "output_type": "display_data"
    }
   ],
   "source": [
    "fig, ax = plt.subplots(dpi=141)\n",
    "ax.set_xlim(xlo, xhi)\n",
    "ax.set_ylim(xlo, yhi)\n",
    "\n",
    "ax.set_aspect(1)\n",
    "fig.canvas.draw()\n",
    "s = max(1,((ax.get_window_extent().width  / (xhi-xlo+1.) * delta*72./fig.dpi) ** 2))  \n",
    "\n",
    "for i in range(len(RCs)):\n",
    "    \n",
    "    plt.scatter((np.array(RCs[i])[:,0]-delta), (np.array(RCs[i])[:,1]-delta), s=s, marker='s', label=i+1)\n",
    "plt.legend()\n",
    "plt.show()"
   ]
  },
  {
   "cell_type": "code",
   "execution_count": 93,
   "metadata": {},
   "outputs": [],
   "source": [
    "# H = cds.maximal_closed_subgraph()\n",
    "# cds.maxsubgraph = H\n",
    "# # cds.G = H\n",
    "\n",
    "# cds.cubes = cds.convert_indices_to_cubes(list(cds.G.nodes()))\n",
    "# for cube in cds.cubes:\n",
    "#     cds.tuplecubes.append(tuple(cube))\n",
    "# cds.index_cube_dict = {k:, cds.index_cube_dict[k] for k in list(cds.G.nodes())}\n",
    "# cds.cube_ind_dict = {v: k for k, v in cds.index_cube_dict.items()}\n"
   ]
  },
  {
   "cell_type": "code",
   "execution_count": 116,
   "metadata": {},
   "outputs": [
    {
     "name": "stdout",
     "output_type": "stream",
     "text": [
      "Component 1\n",
      "Finding isolated nbhd\n",
      "Calculating index pair\n",
      "Calculating homology\n",
      "           HOMCUBES, ver. 3.07, 09/25/15. Copyright (C) 1997-2015 by Pawel Pilarczyk.\n",
      "           This is free software. No warranty. Consult 'license.txt' for details.\n",
      "           Note: The empty file 'rc1_P0_cubes.cub' is assumed to contain cubes.\n",
      "           WARNING: Ignoring '-i', because not working with a map.\n",
      "           Reading cubes to X from 'rc1_P1_cubes.cub'... 742 cubes read.\n",
      "           Reading cubes to A from 'rc1_P0_cubes.cub'... 0 cubes read.\n",
      "           300 bit fields allocated (0 MB) to speed up 2-dimensional reduction.\n",
      "           Reducing full-dim cubes from X... .               37*               3       74738 removed, 4 left.\n",
      "           Transforming X into cells... 4 cells added.\n",
      "           Collapsing faces in X... .. 32 removed, 4 left.\n",
      "           Note: The dimension of X decreased from 2 to 0.\n",
      "           Creating the chain complex of X... Done.\n",
      "           Vertices used: 751 of dim 2.\n",
      "           Time used so far: 0.01 sec (0.000 min).\n",
      "           Computing the homology of X over the ring of integers...\n",
      "           H_0 = Z^4\n",
      "           H_0 = Z^4\n",
      "           Total time used: 0.01 sec (0.000 min).\n",
      "Thank you for using this software. We appreciate your business.\n",
      "Component 2\n",
      "Finding isolated nbhd\n",
      "Calculating index pair\n",
      "Calculating homology\n",
      "           HOMCUBES, ver. 3.07, 09/25/15. Copyright (C) 1997-2015 by Pawel Pilarczyk.\n",
      "           This is free software. No warranty. Consult 'license.txt' for details.\n",
      "           Note: The empty file 'rc2_P0_cubes.cub' is assumed to contain cubes.\n",
      "           WARNING: Ignoring '-i', because not working with a map.\n",
      "           Reading cubes to X from 'rc2_P1_cubes.cub'... 742 cubes read.\n",
      "           Reading cubes to A from 'rc2_P0_cubes.cub'... 0 cubes read.\n",
      "           300 bit fields allocated (0 MB) to speed up 2-dimensional reduction.\n",
      "           Reducing full-dim cubes from X... .               37*               3       74738 removed, 4 left.\n",
      "           Transforming X into cells... 4 cells added.\n",
      "           Collapsing faces in X... .. 32 removed, 4 left.\n",
      "           Note: The dimension of X decreased from 2 to 0.\n",
      "           Creating the chain complex of X... Done.\n",
      "           Vertices used: 751 of dim 2.\n",
      "           Time used so far: 0.01 sec (0.000 min).\n",
      "           Computing the homology of X over the ring of integers...\n",
      "           H_0 = Z^4\n",
      "           H_0 = Z^4\n",
      "           Total time used: 0.01 sec (0.000 min).\n",
      "Thank you for using this software. We appreciate your business.\n",
      "Component 3\n",
      "Finding isolated nbhd\n",
      "Calculating index pair\n",
      "Calculating homology\n",
      "           HOMCUBES, ver. 3.07, 09/25/15. Copyright (C) 1997-2015 by Pawel Pilarczyk.\n",
      "           This is free software. No warranty. Consult 'license.txt' for details.\n",
      "           Note: The empty file 'rc3_P0_cubes.cub' is assumed to contain cubes.\n",
      "           WARNING: Ignoring '-i', because not working with a map.\n",
      "           Reading cubes to X from 'rc3_P1_cubes.cub'... 742 cubes read.\n",
      "           Reading cubes to A from 'rc3_P0_cubes.cub'... 0 cubes read.\n",
      "           300 bit fields allocated (0 MB) to speed up 2-dimensional reduction.\n",
      "           Reducing full-dim cubes from X... .               37*               3       74738 removed, 4 left.\n",
      "           Transforming X into cells... 4 cells added.\n",
      "           Collapsing faces in X... .. 32 removed, 4 left.\n",
      "           Note: The dimension of X decreased from 2 to 0.\n",
      "           Creating the chain complex of X... Done.\n",
      "           Vertices used: 751 of dim 2.\n",
      "           Time used so far: 0.01 sec (0.000 min).\n",
      "           Computing the homology of X over the ring of integers...\n",
      "           H_0 = Z^4\n",
      "           H_0 = Z^4\n",
      "           Total time used: 0.01 sec (0.000 min).\n",
      "Thank you for using this software. We appreciate your business.\n",
      "Component 4\n",
      "Finding isolated nbhd\n",
      "Calculating index pair\n",
      "too many values to unpack (expected 4)\n",
      "Component 5\n",
      "Finding isolated nbhd\n",
      "Calculating index pair\n",
      "too many values to unpack (expected 4)\n",
      "Component 6\n",
      "Finding isolated nbhd\n",
      "Calculating index pair\n",
      "too many values to unpack (expected 4)\n"
     ]
    }
   ],
   "source": [
    "RCs = cds.get_recurrent_components(includeselfedges=True)\n",
    "\n",
    "RPcubes = {}\n",
    "\n",
    "for i in range(0,len(RCs)):#range(0,1)\n",
    "    RPcubes[i] = []\n",
    "    print(\"Component\", i+1)\n",
    "    RPcubes[i].append(RCs[i])\n",
    "    \n",
    "    #Get (isolated) neighbourhood (candidate) around recurrent set\n",
    "    Nbhd = RPcubes[i][0]\n",
    "    print(\"Finding isolated nbhd\")\n",
    "    S = cds.invariantPart(Nbhd)\n",
    "    M = cds.cubical_wrap(S).intersection(cds.G.nodes())\n",
    "    for mstep in range(20):\n",
    "        M = cds.cubical_wrap(M).intersection(cds.G.nodes())\n",
    "    \n",
    "    #calculate index pair\n",
    "    try:\n",
    "        print(\"Calculating index pair\")\n",
    "        P1, P0, Pbar1, Pbar0 = cds.index_pair(M)\n",
    "        #write index pairs to file for Conley index calcualtion with CHomP\n",
    "        \n",
    "        P1graph = nx.subgraph(cds.G, P1)\n",
    "        cubefile, mapfile = cf.write_mapandcubes(P1graph, cds.delta, cds)\n",
    "        with open('rc%s_P1_map.map'%(i+1), 'w') as f:\n",
    "            f.writelines(mapfile)\n",
    "        with open('rc%s_P1_cubes.cub'%(i+1), 'w') as f:\n",
    "            f.writelines(cubefile)\n",
    "            \n",
    "        P0graph = nx.subgraph(cds.G, P0)\n",
    "        cubefile, mapfile = cf.write_mapandcubes(P0graph, cds.delta, cds)\n",
    "        with open('rc%s_P0_cubes.cub'%(i+1), 'w') as f:\n",
    "            f.writelines(cubefile)\n",
    "            \n",
    "        print(\"Calculating homology\")\n",
    "        \n",
    "#         proc = subprocess.Popen(['homcubes', '-i', 'rc%s_P1_map.map'%(i+1)],stdout=subprocess.PIPE)\n",
    "        proc = subprocess.Popen(['homcubes', '-i', 'rc%s_P1_cubes.cub'%(i+1), 'rc%s_P0_cubes.cub'%(i+1)],stdout=subprocess.PIPE)\n",
    "        linenum = 0\n",
    "#         print(proc.stdout.readlines())\n",
    "        while True:\n",
    "            line = proc.stdout.readline()\n",
    "            if not line:\n",
    "                break\n",
    "            print(\"           \"+line.rstrip().decode('UTF-8'))\n",
    "            if line.rstrip().decode('UTF-8')[0] in ['H', '\t', 'D', 'f', 'i', 'F', 'I'] and not line.rstrip().decode('UTF-8')[1] == 'O':\n",
    "#             if line.rstrip().decode('UTF-8')[0:2] == 'H_' or line.rstrip().decode('UTF-8')[0:2] == '  ' or line.rstrip().decode('UTF-8')[0:2] == 'Di':\n",
    "                \n",
    "                print(\"           \"+line.rstrip().decode('UTF-8'))\n",
    "            linenum+=1\n",
    "            \n",
    "    except Exception as e:\n",
    "        if e=='too many values to unpack (expected 4)':\n",
    "            print('Faile')\n",
    "        else:\n",
    "            print(e)"
   ]
  },
  {
   "cell_type": "code",
   "execution_count": null,
   "metadata": {},
   "outputs": [],
   "source": []
  }
 ],
 "metadata": {
  "kernelspec": {
   "display_name": "atds",
   "language": "python",
   "name": "atds"
  },
  "language_info": {
   "codemirror_mode": {
    "name": "ipython",
    "version": 3
   },
   "file_extension": ".py",
   "mimetype": "text/x-python",
   "name": "python",
   "nbconvert_exporter": "python",
   "pygments_lexer": "ipython3",
   "version": "3.7.5"
  }
 },
 "nbformat": 4,
 "nbformat_minor": 2
}
